{
 "cells": [],
 "metadata": {
  "interpreter": {
   "hash": "f010470b93942851b100db597639bbba1f59734ecdc8192c7b89a0acaff0ff67"
  },
  "kernelspec": {
   "display_name": "Python 3.10.4 ('acms40390')",
   "language": "python",
   "name": "python3"
  },
  "language_info": {
   "codemirror_mode": {
    "name": "ipython",
    "version": 3
   },
   "file_extension": ".py",
   "mimetype": "text/x-python",
   "name": "python",
   "nbconvert_exporter": "python",
   "pygments_lexer": "ipython3",
   "version": "3.10.4"
  },
  "orig_nbformat": 4
 },
 "nbformat": 4,
 "nbformat_minor": 2
}
